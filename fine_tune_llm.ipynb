{
 "cells": [
  {
   "cell_type": "code",
   "execution_count": null,
   "metadata": {
    "scrolled": true
   },
   "outputs": [],
   "source": [
    "!pip install evaluate sacrebleu"
   ]
  },
  {
   "cell_type": "code",
   "execution_count": null,
   "metadata": {},
   "outputs": [],
   "source": [
    "from transformers import (AutoTokenizer, DataCollatorForSeq2Seq,\n",
    "AutoModelForSeq2SeqLM, Seq2SeqTrainingArguments, Seq2SeqTrainer)\n",
    "from datasets import load_dataset, Dataset, DatasetDict\n",
    "from huggingface_hub import notebook_login\n",
    "\n",
    "import numpy as np\n",
    "import evaluate"
   ]
  },
  {
   "cell_type": "code",
   "execution_count": null,
   "metadata": {},
   "outputs": [],
   "source": [
    "notebook_login()"
   ]
  },
  {
   "cell_type": "code",
   "execution_count": null,
   "metadata": {},
   "outputs": [],
   "source": [
    "def preprocess_function(examples):\n",
    "    inputs = [PREFIX + example[SRC_LANG] for example in examples[\"translation\"]]\n",
    "    targets = [example[TGT_LANG] for example in examples[\"translation\"]]\n",
    "    model_inputs = tokenizer(inputs\n",
    "                             , text_target = targets\n",
    "                             , max_length = MAX_LENGTH\n",
    "                             , padding = \"max_length\"\n",
    "                             , truncation = True)\n",
    "    return model_inputs\n",
    "\n",
    "\n",
    "def postprocess_text(preds, labels):\n",
    "    preds = [pred.strip() for pred in preds]\n",
    "    labels = [[label.strip()] for label in labels]\n",
    "\n",
    "    return preds, labels\n",
    "\n",
    "\n",
    "def compute_metrics(eval_preds):\n",
    "    preds, labels = eval_preds\n",
    "    if isinstance(preds, tuple):\n",
    "        preds = preds[0]\n",
    "    preds = np.where(preds != -100, preds, tokenizer.pad_token_id)\n",
    "    decoded_preds = tokenizer.batch_decode(preds, skip_special_tokens=True)\n",
    "\n",
    "    labels = np.where(labels != -100, labels, tokenizer.pad_token_id)\n",
    "    decoded_labels = tokenizer.batch_decode(labels, skip_special_tokens=True)\n",
    "\n",
    "    decoded_preds, decoded_labels = postprocess_text(decoded_preds, decoded_labels)\n",
    "\n",
    "    result = metric.compute(predictions=decoded_preds, references=decoded_labels)\n",
    "    result = {\"bleu\": result[\"score\"]}\n",
    "\n",
    "    prediction_lens = [np.count_nonzero(pred != tokenizer.pad_token_id) for pred in preds]\n",
    "    result[\"gen_len\"] = np.mean(prediction_lens)\n",
    "    result = {k: round(v, 4) for k, v in result.items()}\n",
    "    return result\n",
    "\n",
    "def plot_model_scores(scores, model_name):\n",
    "    \"\"\"\n",
    "    Plot train and test accuracy scores of a model by epoch\n",
    "    \"\"\"\n",
    "    train_scores, test_scores = scores\n",
    "    epochs = range(1, len(train_scores) + 1)\n",
    "\n",
    "    # Plot train and test scores\n",
    "    plt.figure(figsize=(16, 9))\n",
    "    plt.plot(epochs, train_scores, label='Train score')\n",
    "    plt.plot(epochs, test_scores, label='Test score')\n",
    "    plt.title('Train and test accuracy scores of the {}'.format(model_name))\n",
    "    plt.xlabel('Epoch')\n",
    "    plt.ylabel('Accuracy Score')\n",
    "    plt.legend()\n",
    "    plt.grid(True)\n",
    "    plt.show()"
   ]
  },
  {
   "cell_type": "code",
   "execution_count": null,
   "metadata": {},
   "outputs": [],
   "source": [
    "MODEL_CHECKPOINT = \"t5-base\"\n",
    "SRC_LANG = \"en\"\n",
    "TGT_LANG = \"de\"\n",
    "PREFIX = \"translate English to German: \"\n",
    "MAX_LENGTH = 128"
   ]
  },
  {
   "cell_type": "code",
   "execution_count": null,
   "metadata": {},
   "outputs": [],
   "source": [
    "t = load_dataset(\"facebook/flores\", \"eng_Latn-deu_Latn\")\n",
    "en = t[\"dev\"][\"sentence_eng_Latn\"] + t[\"devtest\"][\"sentence_eng_Latn\"]\n",
    "de = t[\"dev\"][\"sentence_deu_Latn\"] + t[\"devtest\"][\"sentence_deu_Latn\"]\n",
    "translation = [{\"en\": en_sentence, \"de\": de_sentence} for en_sentence, de_sentence in zip(en, de)]\n",
    "\n",
    "test_data = Dataset.from_dict({\n",
    "                \"id\": list(range(t[\"dev\"].num_rows + t[\"devtest\"].num_rows))\n",
    "                ,\"translation\": translation\n",
    "            })\n",
    "\n",
    "del t, translation, en, de"
   ]
  },
  {
   "cell_type": "code",
   "execution_count": null,
   "metadata": {
    "_cell_guid": "b1076dfc-b9ad-4769-8c92-a6c4dae69d19",
    "_uuid": "8f2839f25d086af736a60e9eeb907d3b93b6e0e5",
    "scrolled": true
   },
   "outputs": [],
   "source": [
    "rw_train_data = load_dataset(\"opus_books\", lang1=TGT_LANG, lang2=SRC_LANG)"
   ]
  },
  {
   "cell_type": "code",
   "execution_count": null,
   "metadata": {},
   "outputs": [],
   "source": [
    "split_data = DatasetDict({\n",
    "    \"train\": rw_train_data[\"train\"]\n",
    "    ,\"test\": test_data\n",
    "})"
   ]
  },
  {
   "cell_type": "code",
   "execution_count": null,
   "metadata": {},
   "outputs": [],
   "source": [
    "tokenizer = AutoTokenizer.from_pretrained(MODEL_CHECKPOINT)"
   ]
  },
  {
   "cell_type": "code",
   "execution_count": null,
   "metadata": {
    "scrolled": true
   },
   "outputs": [],
   "source": [
    "model = AutoModelForSeq2SeqLM.from_pretrained(MODEL_CHECKPOINT)"
   ]
  },
  {
   "cell_type": "code",
   "execution_count": null,
   "metadata": {},
   "outputs": [],
   "source": [
    "token_data = split_data.map(preprocess_function, batched=True)"
   ]
  },
  {
   "cell_type": "code",
   "execution_count": null,
   "metadata": {},
   "outputs": [],
   "source": [
    "data_collator = DataCollatorForSeq2Seq(tokenizer = tokenizer\n",
    "                                       , model = MODEL_CHECKPOINT)"
   ]
  },
  {
   "cell_type": "code",
   "execution_count": null,
   "metadata": {},
   "outputs": [],
   "source": [
    "metric = evaluate.load(\"sacrebleu\")"
   ]
  },
  {
   "cell_type": "code",
   "execution_count": null,
   "metadata": {},
   "outputs": [],
   "source": [
    "def get_trainer(output_dir = None, model = None, token_data = None\n",
    "                , tokenizer = None, data_collator = None\n",
    "                , compute_metrics = None):\n",
    "    training_args = Seq2SeqTrainingArguments(\n",
    "        output_dir = output_dir,\n",
    "        evaluation_strategy = \"epoch\",\n",
    "        learning_rate = 5e-5,\n",
    "        per_device_train_batch_size = 16,\n",
    "        per_device_eval_batch_size = 16,\n",
    "        weight_decay = 0.01,\n",
    "        save_total_limit = 3,\n",
    "        num_train_epochs = 3,\n",
    "        predict_with_generate = True,\n",
    "        fp16 = True,\n",
    "        push_to_hub = True,\n",
    "        report_to=\"none\"\n",
    "    )\n",
    "\n",
    "    trainer = Seq2SeqTrainer(\n",
    "        model = model,\n",
    "        args = training_args,\n",
    "        train_dataset = token_data[\"train\"],\n",
    "        eval_dataset = token_data[\"test\"],\n",
    "        tokenizer = tokenizer,\n",
    "        data_collator = data_collator,\n",
    "        compute_metrics = compute_metrics,\n",
    "    )\n",
    "    \n",
    "    return trainer"
   ]
  },
  {
   "cell_type": "code",
   "execution_count": null,
   "metadata": {},
   "outputs": [],
   "source": [
    "output_dir = \"t5_base_fine_tuned_opus_books_en_de\"\n",
    "trainer = get_trainer(output_dir = output_dir, model = model, token_data = token_data\n",
    "                , tokenizer = tokenizer, data_collator = data_collator\n",
    "                , compute_metrics = compute_metrics)"
   ]
  },
  {
   "cell_type": "code",
   "execution_count": null,
   "metadata": {},
   "outputs": [],
   "source": [
    "trainer.evaluate(max_length=MAX_LENGTH)"
   ]
  },
  {
   "cell_type": "code",
   "execution_count": null,
   "metadata": {},
   "outputs": [],
   "source": [
    "trainer.train()"
   ]
  },
  {
   "cell_type": "code",
   "execution_count": null,
   "metadata": {},
   "outputs": [],
   "source": [
    "trainer.evaluate(max_length=MAX_LENGTH)"
   ]
  },
  {
   "cell_type": "code",
   "execution_count": null,
   "metadata": {},
   "outputs": [],
   "source": [
    "trainer.push_to_hub(tags=\"translation\", commit_message=\"Training complete\")"
   ]
  },
  {
   "cell_type": "code",
   "execution_count": null,
   "metadata": {},
   "outputs": [],
   "source": [
    "sn_train_data = load_dataset(\"jaymanvirk/synthetic_parallel_corpora\")"
   ]
  },
  {
   "cell_type": "code",
   "execution_count": null,
   "metadata": {},
   "outputs": [],
   "source": [
    "split_data = DatasetDict({\n",
    "    \"train\": sn_train_data[\"train\"]\n",
    "    ,\"test\": test_data\n",
    "})"
   ]
  },
  {
   "cell_type": "code",
   "execution_count": null,
   "metadata": {},
   "outputs": [],
   "source": [
    "token_data = split_data.map(preprocess_function, batched=True)"
   ]
  },
  {
   "cell_type": "code",
   "execution_count": null,
   "metadata": {},
   "outputs": [],
   "source": [
    "output_dir = \"t5_base_fine_tuned_synthetic_en_de\"\n",
    "trainer = get_trainer(output_dir = output_dir, model = model, token_data = token_data\n",
    "                , tokenizer = tokenizer, data_collator = data_collator\n",
    "                , compute_metrics = compute_metrics)"
   ]
  },
  {
   "cell_type": "code",
   "execution_count": null,
   "metadata": {},
   "outputs": [],
   "source": [
    "trainer.evaluate(max_length=MAX_LENGTH)"
   ]
  },
  {
   "cell_type": "code",
   "execution_count": null,
   "metadata": {},
   "outputs": [],
   "source": [
    "trainer.train()"
   ]
  },
  {
   "cell_type": "code",
   "execution_count": null,
   "metadata": {},
   "outputs": [],
   "source": [
    "trainer.evaluate(max_length=MAX_LENGTH)"
   ]
  },
  {
   "cell_type": "code",
   "execution_count": null,
   "metadata": {},
   "outputs": [],
   "source": [
    "trainer.push_to_hub(tags=\"translation\", commit_message=\"Training complete\")"
   ]
  }
 ],
 "metadata": {
  "kaggle": {
   "accelerator": "none",
   "dataSources": [],
   "dockerImageVersionId": 30587,
   "isGpuEnabled": false,
   "isInternetEnabled": true,
   "language": "python",
   "sourceType": "notebook"
  },
  "kernelspec": {
   "display_name": "Python 3 (ipykernel)",
   "language": "python",
   "name": "python3"
  },
  "language_info": {
   "codemirror_mode": {
    "name": "ipython",
    "version": 3
   },
   "file_extension": ".py",
   "mimetype": "text/x-python",
   "name": "python",
   "nbconvert_exporter": "python",
   "pygments_lexer": "ipython3",
   "version": "3.10.12"
  }
 },
 "nbformat": 4,
 "nbformat_minor": 4
}
